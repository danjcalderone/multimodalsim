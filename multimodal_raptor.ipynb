{
 "cells": [
  {
   "cell_type": "code",
   "execution_count": null,
   "metadata": {},
   "outputs": [],
   "source": [
    "import numpy as np\n",
    "import numpy.linalg as mat\n",
    "import scipy as sp\n",
    "import scipy.linalg as smat\n",
    "\n",
    "# from json import JSONDecodeError\n",
    "import simplejson\n",
    "\n",
    "# import cvxpy as cp\n",
    "import osmnx as ox\n",
    "import networkx as nx\n",
    "import geopandas as gpd\n",
    "import pandas as pd\n",
    "import peartree as pt #turns GTFS feed into a graph\n",
    "import folium\n",
    "\n",
    "import matplotlib.pyplot as plt\n",
    "from shapely.geometry import Polygon, Point\n",
    "\n",
    "from matplotlib.patches import FancyArrow\n",
    "from itertools import product \n",
    "from random import sample\n",
    "from shapely.geometry import Polygon, Point\n",
    "import shapely as shp\n",
    "import plotly.express as px\n",
    "\n",
    "import alphashape\n",
    "import matplotlib.pyplot as plt\n",
    "from descartes import PolygonPatch\n",
    "import time\n",
    "\n",
    "# from gtfs_functions import Feed #, map_gdf\n",
    "import gtfs_functions as gtfs\n",
    "\n",
    "import pickle\n",
    "\n",
    "%load_ext autoreload\n",
    "%autoreload 2\n",
    "from multimodal_class import * "
   ]
  },
  {
   "cell_type": "markdown",
   "metadata": {},
   "source": [
    "# RECOMPUTE GTFS FEED\n",
    "### for 868 stops in CARTA transit\n",
    "### Run times: (roughly 1 hour per transfer allowed)\n",
    "### - 2 allowed transfers: 2 hrs...\n",
    "### - 3 allowed transfers: 3 hrs...\n",
    "### - 4 allowed transfers: 3.85 hrs...\n",
    "### - 5 allowed transfers: 4.85 hrs...\n",
    "### - 6 allowed transfers: 6 hrs..."
   ]
  },
  {
   "cell_type": "markdown",
   "metadata": {},
   "source": [
    "# RECOMPUTE GTFS FEED\n",
    "### for 868 stops in CARTA transit\n",
    "### Run times: (roughly 1 hour per transfer all`owed)\n",
    "### - 2 transfers = 2 hrs, 3 transfers = 3 hrs, 4 transfers = 3.85 hrs, 5 transfers = 4.85 hrs, 6 transfers = 6 hrs..."
   ]
  },
  {
   "cell_type": "code",
   "execution_count": null,
   "metadata": {},
   "outputs": [],
   "source": [
    "recompute = True;\n",
    "params = {}\n",
    "params['gtfs_file'] = 'INPUTS/carta_gtfs.zip';\n",
    "params['save_file'] = 'INPUTS/gtfs_trips_NEW.obj';\n",
    "params['transfer_limit'] = 5;    #default if not specified here is 1. \n",
    "params['add_footpath_transfers'] = True; # default if not specified her is False;\n",
    "if recompute: \n",
    "    RAPTOR1 = RAPTOR(params)\n",
    "    RAPTOR1.calculateGTFStrips(); # SOLVED = \n"
   ]
  },
  {
   "cell_type": "markdown",
   "metadata": {},
   "source": [
    "# SAVING PRECOMPUTED GTFS..."
   ]
  },
  {
   "cell_type": "code",
   "execution_count": null,
   "metadata": {},
   "outputs": [],
   "source": [
    "saveraptor = False;\n",
    "if saveraptor:\n",
    "    RAPTOR1.SAVE();"
   ]
  },
  {
   "cell_type": "code",
   "execution_count": null,
   "metadata": {},
   "outputs": [],
   "source": []
  }
 ],
 "metadata": {
  "kernelspec": {
   "display_name": "Python 3 (ipykernel)",
   "language": "python",
   "name": "python3"
  },
  "language_info": {
   "codemirror_mode": {
    "name": "ipython",
    "version": 3
   },
   "file_extension": ".py",
   "mimetype": "text/x-python",
   "name": "python",
   "nbconvert_exporter": "python",
   "pygments_lexer": "ipython3",
   "version": "3.11.5"
  },
  "vscode": {
   "interpreter": {
    "hash": "c4d0005f5e14f7c00ac58c488a6489dbdddabe86817daaefe3a462e64eae13df"
   }
  }
 },
 "nbformat": 4,
 "nbformat_minor": 4
}
